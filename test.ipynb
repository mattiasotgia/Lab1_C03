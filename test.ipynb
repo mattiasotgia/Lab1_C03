{
 "cells": [
  {
   "cell_type": "code",
   "execution_count": 1,
   "id": "perfect-habitat",
   "metadata": {},
   "outputs": [],
   "source": [
    "from datetime import date"
   ]
  },
  {
   "cell_type": "code",
   "execution_count": 2,
   "id": "intermediate-attraction",
   "metadata": {},
   "outputs": [],
   "source": [
    "now = date.today()\n",
    "\n",
    "exp_no = str(5)\n",
    "exp_date = now.strftime('%d %B %Y')\n",
    "exp_title = 'Test'\n",
    "\n",
    "temp_file = open('template.tex')\n",
    "file_out = open('test_template.tex', 'w')"
   ]
  },
  {
   "cell_type": "code",
   "execution_count": 3,
   "id": "graduate-indonesia",
   "metadata": {},
   "outputs": [],
   "source": [
    "all_lines = temp_file.readlines()"
   ]
  },
  {
   "cell_type": "code",
   "execution_count": 8,
   "id": "defensive-spider",
   "metadata": {},
   "outputs": [],
   "source": [
    "i = 0\n",
    "for line in all_lines:\n",
    "    if '%%TITLE_HERE%%' in line:\n",
    "        all_lines[i] = line.replace('%%TITLE_HERE%%', exp_title)\n",
    "    elif '%%DATE_HERE%%' in line:\n",
    "        all_lines[i] = line.replace('%%DATE_HERE%%', exp_date)\n",
    "    elif '%%NN%%' in line:\n",
    "        all_lines[i] = line.replace('%%NN%%', exp_no)\n",
    "    else:\n",
    "        all_lines[i] = line\n",
    "    i += 1"
   ]
  },
  {
   "cell_type": "code",
   "execution_count": 9,
   "id": "smart-nitrogen",
   "metadata": {
    "scrolled": true
   },
   "outputs": [
    {
     "data": {
      "text/plain": [
       "['\\\\documentclass[italian, a4paper, 10pt, twocolumn]{../../style/lab_unige}\\n',\n",
       " '    \\\\usepackage[a4paper, margin=1.25cm, footskip=0.25in]{geometry}\\n',\n",
       " '\\n',\n",
       " '    \\\\usepackage[utf8]{inputenc}\\n',\n",
       " '    \\\\usepackage[T1]{fontenc}\\n',\n",
       " '\\n',\n",
       " '    \\\\usepackage[italian]{babel}\\n',\n",
       " '\\n',\n",
       " '    % \\\\usepackage{biblatex}\\n',\n",
       " '\\n',\n",
       " '    \\\\usepackage[bookmarksopen=true, \\n',\n",
       " '    citebordercolor={0 1 0}, \\n',\n",
       " '    linkbordercolor={1 0 0}, \\n',\n",
       " '    urlbordercolor={0 1 1}]{hyperref}\\n',\n",
       " '    \\\\usepackage[numbered]{bookmark}\\n',\n",
       " '\\n',\n",
       " '    \\\\usepackage{graphicx}\\n',\n",
       " '    \\\\graphicspath{{../fig/}}\\n',\n",
       " '    \\\\usepackage{array}\\n',\n",
       " '    \\\\usepackage{tabulary}\\n',\n",
       " '    \\\\usepackage{booktabs}\\n',\n",
       " '\\n',\n",
       " '    % FOUNDAMENTAL\\n',\n",
       " '    \\\\usepackage{../../style/custom}\\n',\n",
       " '\\n',\n",
       " '    \\\\usepackage{physics}\\n',\n",
       " '\\n',\n",
       " '    \\\\usepackage{breqn}\\n',\n",
       " '    \\\\usepackage{cuted}\\n',\n",
       " '    \\\\usepackage{txfonts}\\n',\n",
       " '\\n',\n",
       " '    \\\\usepackage{lipsum}\\n',\n",
       " '\\n',\n",
       " '    %% Define ref types\\n',\n",
       " '    \\\\newcommand{\\\\reftab}[1]{Tab. {\\\\ref{#1}}}%\\n',\n",
       " '    \\\\newcommand{\\\\reffig}[1]{Fig. {\\\\ref{#1}}}%\\n',\n",
       " '    \\\\newcommand{\\\\refeqn}[1]{({\\\\ref{#1})}}%\\n',\n",
       " '    %%\\n',\n",
       " '    \\\\setlength{\\\\columnsep}{6mm}\\n',\n",
       " '    \\\\begin{document}\\n',\n",
       " '\\n',\n",
       " '\\n',\n",
       " '    \\\\twocolumn[\\n',\n",
       " '    \\\\begin{@twocolumnfalse}\\n',\n",
       " '        \\n',\n",
       " '        \\\\title{\\n',\n",
       " '            Test\\n',\n",
       " '        }\\n',\n",
       " '        \\\\author{\\n',\n",
       " '        Eugenio Dormicchi\\\\textsuperscript{1},  \\n',\n",
       " '        Riccardo Pizzimbone\\\\textsuperscript{1}, \\n',\n",
       " '        Mattia Sotgia\\\\textsuperscript{1}\\n',\n",
       " '        }\\n',\n",
       " '\\n',\n",
       " '        \\\\date{\\n',\n",
       " '        \\\\textsuperscript{1}Gruppo C03, Esperienza di laboratorio n. 5 \\\\\\\\\\n',\n",
       " '        %\\\\textsuperscript{2}In presenza in laboratorio per la presa dati\\\\\\\\\\n',\n",
       " '            % Università degli Studi di Genova, Dipartimento di Fisica.\\\\\\\\\\n',\n",
       " '            Presa dati–– \\n',\n",
       " '            11 February 2021, 15:00– 18:00; Analisi dati–– \\n',\n",
       " '            <end-date here>\\n',\n",
       " '        }\\n',\n",
       " '        \\\\maketitle\\n',\n",
       " '        \\n',\n",
       " '        \\\\begin{abstract}\\n',\n",
       " '        \\n',\n",
       " '        \\\\textit{Obiettivo– }\\n',\n",
       " '        \\n',\n",
       " '        \\\\textit{Metodi– }\\n',\n",
       " '        \\n',\n",
       " '        \\\\textit{Risultati– }\\n',\n",
       " '        \\n',\n",
       " '        \\\\textit{Conclusione– }\\n',\n",
       " '        \\n',\n",
       " '        \\n',\n",
       " '        \\\\end{abstract}\\n',\n",
       " '        \\\\vspace{2em}\\n',\n",
       " '        \\\\end{@twocolumnfalse}\\n',\n",
       " '    ]\\n',\n",
       " '\\n',\n",
       " '    %%%% CORPO DEL TESTO\\n',\n",
       " '    %%%% CORPO DEL TESTO\\n',\n",
       " '\\n',\n",
       " '    \\\\section{Obiettivo}\\n',\n",
       " '    \\\\label{section:aim}\\n',\n",
       " '\\n',\n",
       " '    \\\\section{Strumentazione}\\n',\n",
       " '    \\\\label{section:strument}\\n',\n",
       " '\\n',\n",
       " '    \\\\section{Metodi}\\n',\n",
       " '    \\\\label{section:methods}\\n',\n",
       " '\\n',\n",
       " '    \\\\section{Risultati}\\n',\n",
       " '    \\\\label{section:results}\\n',\n",
       " '\\n',\n",
       " '    \\\\section{Conclusione}\\n',\n",
       " '    \\\\label{section:conclusion}\\n',\n",
       " '\\n',\n",
       " '    \\\\subsection{Controlli}\\n',\n",
       " '\\n',\n",
       " '    \\\\subsection{Possibili errori sistematici}\\n',\n",
       " '    \\n',\n",
       " '\\n',\n",
       " '    \\\\end{document}\\n',\n",
       " '    \\n']"
      ]
     },
     "execution_count": 9,
     "metadata": {},
     "output_type": "execute_result"
    }
   ],
   "source": [
    "all_lines"
   ]
  },
  {
   "cell_type": "code",
   "execution_count": 11,
   "id": "naval-dealing",
   "metadata": {},
   "outputs": [],
   "source": [
    "for line in all_lines:\n",
    "    file_out.write(line)"
   ]
  },
  {
   "cell_type": "code",
   "execution_count": null,
   "id": "dedicated-sampling",
   "metadata": {},
   "outputs": [],
   "source": []
  }
 ],
 "metadata": {
  "kernelspec": {
   "display_name": "Python 3",
   "language": "python",
   "name": "python3"
  },
  "language_info": {
   "codemirror_mode": {
    "name": "ipython",
    "version": 3
   },
   "file_extension": ".py",
   "mimetype": "text/x-python",
   "name": "python",
   "nbconvert_exporter": "python",
   "pygments_lexer": "ipython3",
   "version": "3.9.1"
  }
 },
 "nbformat": 4,
 "nbformat_minor": 5
}
