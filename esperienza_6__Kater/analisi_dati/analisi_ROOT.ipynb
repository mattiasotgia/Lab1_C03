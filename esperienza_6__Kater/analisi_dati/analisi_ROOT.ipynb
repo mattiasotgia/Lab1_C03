{
 "cells": [
  {
   "cell_type": "code",
   "execution_count": 4,
   "id": "organizational-truth",
   "metadata": {},
   "outputs": [],
   "source": [
    "struct x_values{\n",
    "    double xpos[2];\n",
    "    double xneg[2];        \n",
    "};"
   ]
  },
  {
   "cell_type": "code",
   "execution_count": 5,
   "id": "separated-nightmare",
   "metadata": {},
   "outputs": [],
   "source": [
    "x_values isocrony_x(Double_t* params_1, const Double_t* err_params_1, Double_t* params_2, const Double_t* err_params_2){\n",
    "    x_values x;\n",
    "\n",
    "    // non usare valori assoluti per a, b e c per evitare di ottenere valore di isocronia errato.\n",
    "    double a = params_1[0]-params_2[0], err_a = abs(err_params_1[0])+abs(err_params_2[0]);\n",
    "    double b = params_1[1]-params_2[1], err_b = abs(err_params_1[1])+abs(err_params_2[1]);\n",
    "    double c = params_1[2]-params_2[2], err_c = abs(err_params_1[2])+abs(err_params_2[2]);\n",
    "\n",
    "    double delta = pow(b, 2) - 4*a*c;\n",
    "\n",
    "    if(delta<0){\n",
    "        std::cout << \"delta is negative!\" << std::endl;\n",
    "        return {{0,0}, {0,0}};\n",
    "    }\n",
    "\n",
    "    x.xpos[0] = (-b+sqrt(delta))/(2*a);\n",
    "    x.xneg[0] = (-b-sqrt(delta))/(2*a);\n",
    "\n",
    "    double dda_sqr_pos = pow(((-1)*c/(a*sqrt(delta))) - ((-b + sqrt(delta))/(2*a*a)), 2);\n",
    "    double ddb_sqr_pos = pow((-1 + b/sqrt(delta))/(2*a), 2);\n",
    "    double ddc_sqr_pos = pow(-1/sqrt(delta), 2);\n",
    "\n",
    "    x.xpos[1] = sqrt((dda_sqr_pos*err_a*err_a) + (ddb_sqr_pos*err_b*err_b) + (ddc_sqr_pos*err_c*err_c));\n",
    "\n",
    "    double dda_sqr_neg = pow((b*b - 2*a*c + b*sqrt(delta))/(2*a*a*sqrt(delta)), 2);\n",
    "    double ddb_sqr_neg = pow((-1 - (b/sqrt(delta)))/(2*a), 2);\n",
    "    double ddc_sqr_neg = pow(1/sqrt(delta), 2);\n",
    "\n",
    "    x.xneg[1] = sqrt((dda_sqr_neg*err_a*err_a) + (ddb_sqr_neg*err_b*err_b) + (ddc_sqr_neg*err_c*err_c));\n",
    "\n",
    "    return x;\n",
    "}"
   ]
  },
  {
   "cell_type": "code",
   "execution_count": 7,
   "id": "restricted-austria",
   "metadata": {},
   "outputs": [],
   "source": [
    "double* get_isoX(x_values x, TGraphErrors _g){\n",
    "    \n",
    "    double* _x = new double[2];\n",
    "\n",
    "    if(x.xpos[0]>TMath::MinElement(_g.GetN(), _g.GetX())){\n",
    "        _x[0] = x.xpos[0]; _x[1] = x.xpos[1];\n",
    "    }else{\n",
    "        _x[0] = x.xneg[0]; _x[1] = x.xneg[1];\n",
    "    }\n",
    "    \n",
    "    return _x;\n",
    "\n",
    "}"
   ]
  },
  {
   "cell_type": "code",
   "execution_count": 8,
   "id": "prompt-writing",
   "metadata": {},
   "outputs": [],
   "source": [
    "double get_err_T(double x_iso, TGraphErrors g1, TGraphErrors g2){\n",
    "\n",
    "    double Terr_iso_1 = 0;\n",
    "    double Terr_iso_2 = 0;\n",
    "    double range = abs(g1.GetX()[0]-x_iso);\n",
    "\n",
    "    for(int i=0; i<g1.GetN(); i++){\n",
    "        // std::cout << i << \" \" << abs(x_iso-g1.GetX()[i]) << \" x: \" << g1.GetX()[i] << std::endl;\n",
    "        // algorimo per identificazione dei valori di T1 T2 più\n",
    "        // vicini al valore di isocronia\n",
    "\n",
    "        if((abs(x_iso-g1.GetX()[i])<range)){\n",
    "            Terr_iso_1 = g1.GetErrorY(i);\n",
    "            Terr_iso_2 = g2.GetErrorY(i);\n",
    "            range = abs(x_iso-g1.GetX()[i]);\n",
    "        }\n",
    "    }\n",
    "\n",
    "    return sqrt(pow(Terr_iso_1, 2)+pow(Terr_iso_2, 2));\n",
    "}"
   ]
  },
  {
   "cell_type": "code",
   "execution_count": null,
   "id": "green-zambia",
   "metadata": {},
   "outputs": [],
   "source": []
  }
 ],
 "metadata": {
  "kernelspec": {
   "display_name": "ROOT C++",
   "language": "c++",
   "name": "root"
  },
  "language_info": {
   "codemirror_mode": "text/x-c++src",
   "file_extension": ".C",
   "mimetype": " text/x-c++src",
   "name": "c++"
  }
 },
 "nbformat": 4,
 "nbformat_minor": 5
}
