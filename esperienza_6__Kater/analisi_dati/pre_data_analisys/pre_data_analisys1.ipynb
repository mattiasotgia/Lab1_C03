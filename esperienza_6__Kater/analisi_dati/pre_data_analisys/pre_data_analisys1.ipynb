{
 "cells": [
  {
   "cell_type": "markdown",
   "id": "functioning-difference",
   "metadata": {},
   "source": [
    "# Presa dati e analisi preliminare, 24 marzo 2021\n",
    "\n",
    "analisi dati preliminare esperienza 06__Kater"
   ]
  },
  {
   "cell_type": "code",
   "execution_count": 1,
   "id": "anonymous-advice",
   "metadata": {},
   "outputs": [],
   "source": [
    "import numpy as np\n",
    "import pandas as pd\n",
    "import matplotlib.pyplot as plt\n",
    "from scipy.optimize import curve_fit"
   ]
  },
  {
   "cell_type": "code",
   "execution_count": 2,
   "id": "protective-mixer",
   "metadata": {},
   "outputs": [],
   "source": [
    "import os\n",
    "\n",
    "BASE_PATH = os.getcwd()\n",
    "MISC_PATH = os.path.join(BASE_PATH, '../../misc')\n",
    "TABLE_PATH = os.path.join(BASE_PATH, '../../relazione/tables')\n",
    "DATA_PATH = os.path.join(BASE_PATH, '../../dati')"
   ]
  },
  {
   "cell_type": "code",
   "execution_count": 3,
   "id": "japanese-involvement",
   "metadata": {},
   "outputs": [],
   "source": [
    "# misure con il calibro {cm} (+/- 0.05 mm)\n",
    "L_0_1 = 10.415\n",
    "L_0_2 = 14.930\n",
    "d = 9.040\n",
    "\n",
    "N_FORI = 25\n",
    "FORO_P = 24\n",
    "DIST_F = 2.5 # {cm} (senza errori)\n",
    "\n",
    "def x_b(n_f):\n",
    "    return (L_0_1+L_0_2+(d/2)+(N_FORI-n_f)*DIST_F)/100 # convertito in {m}"
   ]
  },
  {
   "cell_type": "code",
   "execution_count": 4,
   "id": "statewide-tenant",
   "metadata": {
    "scrolled": true
   },
   "outputs": [],
   "source": [
    "# misuriamo i valori per T1 (massa rossa in alto) e T2 (massa blu in alto)\n",
    "# _T1_p<#posizione> = array di 10 misure di periodo per ogni posizione\n",
    "# misure in {s}\n",
    "\n",
    "_T1_p1 = np.array([1.8433475, 1.8438321, 1.8436974, 1.8441519, 1.8438134, \n",
    "                   1.8440039, 1.8434289, 1.8437870, 1.8432011, 1.8436028])\n",
    "_T2_p1 = np.array([1.8162160, 1.8162461, 1.8164208, 1.8162922, 1.8165907,\n",
    "                   1.8161985, 1.8163087, 1.8162481, 1.8167033, 1.8170554])\n",
    "\n",
    "_T1_p2 = np.array([1.8241344, 1.8250191, 1.8243224, 1.8246017, 1.8238088,\n",
    "                   1.8240085, 1.8238919, 1.8239454, 1.8243763, 1.8242312])\n",
    "_T2_p2 = np.array([1.8069800, 1.8074008, 1.8066094, 1.8068046, 1.8073671,\n",
    "                   1.8071854, 1.8080697, 1.8068933, 1.8072342, 1.8069937])\n",
    "\n",
    "_T1_p3 = np.array([1.8010792, 1.8014794, 1.8021671, 1.8026592, 1.8024890,\n",
    "                   1.8030486, 1.8031204, 1.8048308, 1.8040768, 1.8036150])\n",
    "_T2_p3 = np.array([1.7978242, 1.7982385, 1.7983828, 1.7984080, 1.7984383, \n",
    "                   1.7986348, 1.7989685, 1.7985901, 1.7986484, 1.7986683])\n",
    "\n",
    "_T1_p4 = np.array([1.7842967, 1.7831672, 1.7844837, 1.7838530, 1.7842300,\n",
    "                   1.7839835, 1.7841418, 1.7838625, 1.7843554, 1.7840838])\n",
    "_T2_p4 = np.array([1.7904099, 1.7919054, 1.7912305, 1.7911800, 1.7912973,\n",
    "                   1.7911650, 1.7908471, 1.7912831, 1.7910748, 1.7911061])\n",
    "\n",
    "_T1_p5 = np.array([1.7646188, 1.7654354, 1.7653484, 1.7646805, 1.7648372, \n",
    "                   1.7650848, 1.7649879, 1.7647196, 1.7644894, 1.7641298])\n",
    "_T2_p5 = np.array([1.7837065, 1.7839124, 1.7838475, 1.7840367, 1.7837570,\n",
    "                   1.7840481, 1.7845240, 1.7840374, 1.7848659, 1.7842935])\n",
    "\n",
    "_T1_p6 = np.array([1.7469742, 1.7470051, 1.7474456, 1.7473891, 1.7476352,\n",
    "                   1.7468288, 1.7475854, 1.7475552, 1.7489131, 1.7474017])\n",
    "_T2_p6 = np.array([1.7793795, 1.7790879, 1.7794034, 1.7794454, 1.7793693,\n",
    "                   1.7794584, 1.7793767, 1.7792549, 1.7794661, 1.7793790])\n"
   ]
  },
  {
   "cell_type": "code",
   "execution_count": 5,
   "id": "visible-survivor",
   "metadata": {},
   "outputs": [
    {
     "data": {
      "image/png": "[encoded data removed]",
      "text/plain": [
       "<Figure size 432x288 with 1 Axes>"
      ]
     },
     "metadata": {
      "needs_background": "light"
     },
     "output_type": "display_data"
    },
    {
     "name": "stdout",
     "output_type": "stream",
     "text": [
      "[0.39025696 0.12440192 1.41697942] [ 0.85828599 -1.13790413  2.14596243]\n"
     ]
    }
   ],
   "source": [
    "T1 = np.array([_T1_p1.mean(), _T1_p2.mean(), _T1_p3.mean(), _T1_p4.mean(), _T1_p5.mean(), _T1_p6.mean()])\n",
    "err_T1 = np.array([_T1_p1.std(), _T1_p2.std(), _T1_p3.std(), _T1_p4.std(), _T1_p5.std(), _T1_p6.std()])/np.sqrt(10)\n",
    "T2 = np.array([_T2_p1.mean(), _T2_p2.mean(), _T2_p3.mean(), _T2_p4.mean(), _T2_p5.mean(), _T2_p6.mean()])\n",
    "err_T2 = np.array([_T2_p1.std(), _T2_p2.std(), _T2_p3.std(), _T2_p4.std(), _T2_p5.std(), _T2_p6.std()])/np.sqrt(10)\n",
    "xb = np.array([x_b(n) for n in range(1, 7)])\n",
    "\n",
    "def f(x, a, b, c):\n",
    "    return a*(x**2)+b*x+c\n",
    "\n",
    "\n",
    "plt.errorbar(xb, T1, yerr=err_T1, fmt='r.')\n",
    "popt_1, pcov_1 = curve_fit(f, xb, T1, sigma=err_T1)\n",
    "plt.plot(xb, f(xb, *popt_1), 'r--')\n",
    "plt.errorbar(xb, T2, yerr=err_T2, fmt='k.')\n",
    "popt_2, pcov_2 = curve_fit(f, xb, T2, sigma=err_T2)\n",
    "plt.plot(xb, f(xb, *popt_2), 'k--')\n",
    "plt.xlabel('x$_b$ [m]')\n",
    "plt.ylabel('Periodo [s]')\n",
    "plt.show()\n",
    "print(popt_1, popt_2)"
   ]
  },
  {
   "cell_type": "code",
   "execution_count": 6,
   "id": "seventh-porter",
   "metadata": {},
   "outputs": [],
   "source": [
    "#lunghezza ridotta (mm)\n",
    "\n",
    "l_r = 800.010\n",
    "err_Lr = 0.010"
   ]
  },
  {
   "cell_type": "markdown",
   "id": "genetic-preliminary",
   "metadata": {},
   "source": [
    "Scrivere i dati su file `csv` per future analisi, scrivere tabelle"
   ]
  },
  {
   "cell_type": "code",
   "execution_count": 7,
   "id": "roman-effectiveness",
   "metadata": {},
   "outputs": [],
   "source": [
    "import csv\n",
    "\n",
    "FILES = [\n",
    "    'raw_T1_osc',\n",
    "    'raw_T2_osc',\n",
    "    'TABLE_RAW', #unused\n",
    "    'computed_T1_x',\n",
    "    'computed_T2_x',\n",
    "]\n",
    "\n",
    "with open(os.path.join(DATA_PATH, FILES[0] + '.csv'), 'w') as csv_file:\n",
    "    w1 = csv.writer(csv_file, delimiter=',')\n",
    "    w1.writerow(['p{}'.format(i) for i in range(1,7)])\n",
    "    for j in range(10):\n",
    "        w1.writerow([_T1_p1[j], _T1_p2[j], _T1_p3[j], _T1_p4[j], _T1_p5[j], _T1_p6[j]])\n",
    "\n",
    "with open(os.path.join(DATA_PATH, FILES[1] + '.csv'), 'w') as csv_file:\n",
    "    w2 = csv.writer(csv_file, delimiter=',')\n",
    "    w2.writerow(['p{}'.format(i) for i in range(1,7)])\n",
    "    for j in range(10):\n",
    "        w2.writerow([_T2_p1[j], _T2_p2[j], _T2_p3[j], _T2_p4[j], _T2_p5[j], _T2_p6[j]])\n",
    "\n",
    "# Salvo i dati nel formato \n",
    "# x, T, err_x, err_T\n",
    "# in file csv per lettura in ROOT\n",
    "        \n",
    "with open(os.path.join(DATA_PATH, FILES[3] + '.txt'), 'w') as csv_T1_comp:\n",
    "    w3 = csv.writer(csv_T1_comp, delimiter=' ')\n",
    "    # w3.writerow(['x', 'T', 'x_err', 'T_err'])\n",
    "    for j in range(6):\n",
    "        w3.writerow([xb[j], T1[j], 0, err_T1[j]]) # cambiare il valore di errore su xb da 0 al valore stabilito\n",
    "\n",
    "with open(os.path.join(DATA_PATH, FILES[4] + '.txt'), 'w') as csv_T2_comp:\n",
    "    w4 = csv.writer(csv_T2_comp, delimiter=' ')\n",
    "    # w4.writerow(['x', 'T', 'x_err', 'T_err'])\n",
    "    for j in range(6):\n",
    "        w4.writerow([xb[j], T2[j], 0, err_T2[j]]) # cambiare il valore di errore su xb da 0 al valore stabilito"
   ]
  }
 ],
 "metadata": {
  "kernelspec": {
   "display_name": "Python 3",
   "language": "python",
   "name": "python3"
  },
  "language_info": {
   "codemirror_mode": {
    "name": "ipython",
    "version": 3
   },
   "file_extension": ".py",
   "mimetype": "text/x-python",
   "name": "python",
   "nbconvert_exporter": "python",
   "pygments_lexer": "ipython3",
   "version": "3.9.1"
  }
 },
 "nbformat": 4,
 "nbformat_minor": 5
}
