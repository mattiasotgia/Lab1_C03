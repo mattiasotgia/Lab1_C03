{
 "cells": [
  {
   "cell_type": "markdown",
   "id": "functioning-difference",
   "metadata": {},
   "source": [
    "# Presa dati e analisi preliminare, 24 marzo 2021\n",
    "\n",
    "analisi dati preliminare esperienza 06__Kater"
   ]
  },
  {
   "cell_type": "code",
   "execution_count": 1,
   "id": "anonymous-advice",
   "metadata": {},
   "outputs": [],
   "source": [
    "import numpy as np\n",
    "import pandas as pd\n",
    "import matplotlib.pyplot as plt"
   ]
  },
  {
   "cell_type": "code",
   "execution_count": 2,
   "id": "protective-mixer",
   "metadata": {},
   "outputs": [],
   "source": [
    "import os\n",
    "\n",
    "BASE_PATH = os.getcwd()\n",
    "MISC_PATH = os.path.join(BASE_PATH, '../../misc')\n",
    "DATA_PATH = os.path.join(BASE_PATH, '../../dati')"
   ]
  },
  {
   "cell_type": "code",
   "execution_count": 3,
   "id": "japanese-involvement",
   "metadata": {},
   "outputs": [],
   "source": [
    "# misure con il calibro (cm) (+/- 0.05 mm)\n",
    "L_0_1 = 10.415\n",
    "L_0_2 = 14.930\n",
    "d = 9.040\n",
    "\n",
    "N_FORI = 25\n",
    "FORO_P = 24\n",
    "DIST_F = 2.5 #cm\n",
    "\n",
    "def x_b(n_f):\n",
    "    return L_0_1+L_0_2+(d/2)+(N_FORI-n_f)*DIST_F"
   ]
  },
  {
   "cell_type": "code",
   "execution_count": null,
   "id": "intermediate-worthy",
   "metadata": {
    "scrolled": true
   },
   "outputs": [],
   "source": [
    "# misuriamo i valori per T1 (massa rossa in alto) e T2 (massa blu in alto)\n",
    "# _T1_p<#posizione> = array di 10 misure di periodo per ogni posizione\n",
    "\n",
    "_T1_p1 = np.array([1.8433475, 1.8438321, 1.8436974, 1.8441519, 1.8438134, \n",
    "                   1.8440039, 1.8434289, 1.8437870, 1.8432011, 1.8436028])\n",
    "_T2_p1 = np.array([1.8162160, 1.8162461, 1.8164208, 1.8162922, 1.8165907,\n",
    "                   1.8161985, 1.8163087, 1.8162481, 1.8167033, 1.8170554])\n",
    "\n",
    "_T1_p2 = np.array([1.8241344, 1.8250191, 1.8243224, 1.8246017, 1.8238088,\n",
    "                   1.8240085, 1.8238919, 1.8239454, 1.8243763, 1.8242312])\n",
    "_T2_p2 = np.array([1.8069800, 1.8074008, 1.8066094, 1.8068046, 1.8073671,\n",
    "                   1.8071854, 1.8080697, 1.8068933, 1.8072342, 1.8069937])\n",
    "\n",
    "_T1_p3 = np.array([1.8010792, 1.8014794, 1.8021671, 1.8026592, 1.8024890,\n",
    "                   1.8030486, 1.8031204, 1.8048308, 1.8040768, 1.8036150])\n",
    "_T2_p3 = np.array([1.7978242, 1.7982385, 1.7983828, 1.7984080, 1.7984383, \n",
    "                   1.7986348, 1.7989685, 1.7985901, 1.7986484, 1.7986683])\n",
    "\n",
    "# _T1_p4 = np.array([])\n",
    "# _T2_p4 = np.array([])\n",
    "\n",
    "# _T1_p5 = np.array([])\n",
    "# _T2_p5 = np.array([])\n",
    "\n",
    "# _T1_p6 = np.array([])\n",
    "# _T2_p6 = np.array([])"
   ]
  }
 ],
 "metadata": {
  "kernelspec": {
   "display_name": "Python 3",
   "language": "python",
   "name": "python3"
  },
  "language_info": {
   "codemirror_mode": {
    "name": "ipython",
    "version": 3
   },
   "file_extension": ".py",
   "mimetype": "text/x-python",
   "name": "python",
   "nbconvert_exporter": "python",
   "pygments_lexer": "ipython3",
   "version": "3.9.1"
  }
 },
 "nbformat": 4,
 "nbformat_minor": 5
}
