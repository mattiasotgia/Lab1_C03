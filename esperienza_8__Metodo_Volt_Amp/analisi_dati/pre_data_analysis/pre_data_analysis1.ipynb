{
 "cells": [
  {
   "cell_type": "markdown",
   "id": "broken-economy",
   "metadata": {},
   "source": [
    "# Presa dati e analisi iniziale\n",
    "28 Aprile 2021"
   ]
  },
  {
   "cell_type": "code",
   "execution_count": null,
   "id": "motivated-classroom",
   "metadata": {},
   "outputs": [],
   "source": [
    "import matplotlib\n",
    "import matplotlib.pyplot as plt\n",
    "import numpy as np"
   ]
  },
  {
   "cell_type": "code",
   "execution_count": 11,
   "id": "corrected-shoot",
   "metadata": {},
   "outputs": [
    {
     "name": "stdout",
     "output_type": "stream",
     "text": [
      "[0.03265549]\n"
     ]
    },
    {
     "data": {
      "image/png": "[encoded data removed]",
      "text/plain": [
       "<Figure size 432x288 with 1 Axes>"
      ]
     },
     "metadata": {
      "needs_background": "light"
     },
     "output_type": "display_data"
    }
   ],
   "source": [
    "V_v_1 = np.array([0.992, 1.491, 2.49, 4.99, 6.50, 8.00, 9.82]) # muA\n",
    "I_a_1 = np.array([30.395, 45.692, 76.296, 153.075, 199.001, 244.91, 300.65]) # mV\n",
    "len(V_v_1) == len(I_a_1)\n",
    "\n",
    "def f(x, R):\n",
    "    return x*R\n",
    "\n",
    "plt.scatter(I_a_1, V_v_1, )\n",
    "from scipy.optimize import curve_fit\n",
    "popt, pcov = curve_fit(f, I_a_1, V_v_1)\n",
    "print(popt)"
   ]
  },
  {
   "cell_type": "code",
   "execution_count": 13,
   "id": "essential-spiritual",
   "metadata": {},
   "outputs": [
    {
     "name": "stdout",
     "output_type": "stream",
     "text": [
      "[0.00991479]\n"
     ]
    },
    {
     "data": {
      "image/png": "[encoded data removed]",
      "text/plain": [
       "<Figure size 432x288 with 1 Axes>"
      ]
     },
     "metadata": {
      "needs_background": "light"
     },
     "output_type": "display_data"
    }
   ],
   "source": [
    "V_v_2 = np.array([0.502, 1.491, 2.99, 4.49, 6.01, 8.00, 9.68]) # muA\n",
    "I_a_2 = np.array([50.688, 150.360, 302.39, 453.40, 606.57, 807.01, 975.45]) # mV\n",
    "len(V_v_1) == len(I_a_1)\n",
    "\n",
    "def f(x, R):\n",
    "    return x*R\n",
    "\n",
    "plt.scatter(I_a_2, V_v_2)\n",
    "\n",
    "popt, pcov = curve_fit(f, I_a_2, V_v_2)\n",
    "print(popt)"
   ]
  }
 ],
 "metadata": {
  "kernelspec": {
   "display_name": "Python 3",
   "language": "python",
   "name": "python3"
  },
  "language_info": {
   "codemirror_mode": {
    "name": "ipython",
    "version": 3
   },
   "file_extension": ".py",
   "mimetype": "text/x-python",
   "name": "python",
   "nbconvert_exporter": "python",
   "pygments_lexer": "ipython3",
   "version": "3.9.1"
  }
 },
 "nbformat": 4,
 "nbformat_minor": 5
}
