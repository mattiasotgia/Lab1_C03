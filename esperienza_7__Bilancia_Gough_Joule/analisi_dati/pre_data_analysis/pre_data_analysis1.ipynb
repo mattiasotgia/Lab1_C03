{
 "cells": [
  {
   "cell_type": "markdown",
   "id": "incorporated-reply",
   "metadata": {},
   "source": [
    "# Presa dati ed analisi preliminare \n",
    "\n",
    "14 aprile 2021, esperienza n. 7, taratura di una bilancia e verifica dell'effetto Gough-Joule"
   ]
  },
  {
   "cell_type": "code",
   "execution_count": 1,
   "id": "accredited-eleven",
   "metadata": {},
   "outputs": [],
   "source": [
    "import numpy as np\n",
    "from numpy import array\n",
    "import matplotlib.pyplot as plt\n",
    "from scipy.optimize import curve_fit\n",
    "import csv"
   ]
  },
  {
   "cell_type": "markdown",
   "id": "artificial-princess",
   "metadata": {},
   "source": [
    "## Parte 1: taratura della cella di carico"
   ]
  },
  {
   "cell_type": "code",
   "execution_count": 2,
   "id": "acquired-experience",
   "metadata": {},
   "outputs": [
    {
     "data": {
      "text/plain": [
       "True"
      ]
     },
     "execution_count": 2,
     "metadata": {},
     "output_type": "execute_result"
    }
   ],
   "source": [
    "c = array([0, 48.140, 51.545, 53.193, 73.949, 80.134, 101.298, 101.117, 116.217])/1000\n",
    "V0 = 0.845\n",
    "V = array([2.199, 2.926, 3.649, 4.112, 5.145, 5.769, 6.539, 7.989, 8.619, 9.808, 11.161, 12.061, 14.141, 15.637, 17.087])\n",
    "m = array([c[1], c[4], c[1]+c[2], c[8], c[2]+c[6], c[7]+c[4], c[6]+c[7], c[2]+c[6]+c[7], c[6]+c[7]+c[4], c[6]+c[7]+c[8],c[6]+c[7]+c[8]+c[1],c[5]+c[6]+c[7]+c[8],c[4]+c[5]+c[6]+c[7]+c[8],c[3]+c[4]+c[5]+c[6]+c[7]+c[8],c[2]+c[3]+c[4]+c[5]+c[6]+c[7]+c[8]])\n",
    "len(m) == len(V)"
   ]
  },
  {
   "cell_type": "code",
   "execution_count": 29,
   "id": "informed-breach",
   "metadata": {},
   "outputs": [],
   "source": [
    "tar_file = open('../../dati/taratura.csv', 'w')\n",
    "w = csv.writer(tar_file, delimiter=',')\n",
    "w.writerow(['m_i', 'V_i', 'err_m_i', 'err_V_i'])\n",
    "for i in range(len(V)):\n",
    "    w.writerow([m[i], V[i]*(10**(-3)), 0, 0.001/(2*np.sqrt(3)*(10**3))])"
   ]
  },
  {
   "cell_type": "code",
   "execution_count": 23,
   "id": "periodic-render",
   "metadata": {},
   "outputs": [
    {
     "name": "stdout",
     "output_type": "stream",
     "text": [
      "[ 0.84529659 28.1265794 ]\n"
     ]
    }
   ],
   "source": [
    "def f(x, a0, a1):\n",
    "    return a0+a1*x\n",
    "\n",
    "popt, pcov = curve_fit(f, m, V, sigma=[0.001/(2*np.sqrt(3)) for _ in range(15)])\n",
    "print(popt)"
   ]
  }
 ],
 "metadata": {
  "kernelspec": {
   "display_name": "Python 3",
   "language": "python",
   "name": "python3"
  },
  "language_info": {
   "codemirror_mode": {
    "name": "ipython",
    "version": 3
   },
   "file_extension": ".py",
   "mimetype": "text/x-python",
   "name": "python",
   "nbconvert_exporter": "python",
   "pygments_lexer": "ipython3",
   "version": "3.9.1"
  }
 },
 "nbformat": 4,
 "nbformat_minor": 5
}
